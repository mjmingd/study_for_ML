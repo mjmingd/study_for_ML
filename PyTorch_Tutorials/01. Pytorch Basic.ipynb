{
 "cells": [
  {
   "cell_type": "code",
   "execution_count": 1,
   "metadata": {},
   "outputs": [],
   "source": [
    "import torch"
   ]
  },
  {
   "cell_type": "markdown",
   "metadata": {},
   "source": [
    "# Tensor"
   ]
  },
  {
   "cell_type": "code",
   "execution_count": 2,
   "metadata": {},
   "outputs": [
    {
     "name": "stdout",
     "output_type": "stream",
     "text": [
      "tensor([[ 0.0000e+00,  8.5899e+09,  1.0992e-37],\n",
      "        [-2.8657e-42,  1.2523e-29,  1.4013e-45],\n",
      "        [ 1.2555e-29,  1.4013e-45,  1.2555e-29],\n",
      "        [ 1.4013e-45,  1.2564e-29,  1.4013e-45],\n",
      "        [ 1.2570e-29,  1.4013e-45,  1.2556e-29]])\n"
     ]
    }
   ],
   "source": [
    "# construct empty tensor filled with unintialized number\n",
    "x = torch.empty(5,3)\n",
    "print(x)"
   ]
  },
  {
   "cell_type": "code",
   "execution_count": 3,
   "metadata": {},
   "outputs": [
    {
     "name": "stdout",
     "output_type": "stream",
     "text": [
      "tensor([[0.1127, 0.9848, 0.1151],\n",
      "        [0.4409, 0.2487, 0.2596],\n",
      "        [0.2596, 0.3680, 0.2212],\n",
      "        [0.9597, 0.2806, 0.5214],\n",
      "        [0.8607, 0.9980, 0.7374]])\n"
     ]
    }
   ],
   "source": [
    "#construct a randomly initialized matrix(0~1)\n",
    "x = torch.rand(5,3)\n",
    "print(x)"
   ]
  },
  {
   "cell_type": "code",
   "execution_count": 4,
   "metadata": {},
   "outputs": [
    {
     "name": "stdout",
     "output_type": "stream",
     "text": [
      "tensor([[0., 0., 0.],\n",
      "        [0., 0., 0.],\n",
      "        [0., 0., 0.],\n",
      "        [0., 0., 0.],\n",
      "        [0., 0., 0.]])\n"
     ]
    }
   ],
   "source": [
    "#construct a matrix filled with zeros\n",
    "x = torch.zeros(5,3)\n",
    "print(x)"
   ]
  },
  {
   "cell_type": "code",
   "execution_count": 5,
   "metadata": {},
   "outputs": [
    {
     "name": "stdout",
     "output_type": "stream",
     "text": [
      "tensor([[1, 2, 3],\n",
      "        [4, 5, 6]])\n"
     ]
    }
   ],
   "source": [
    "#construct a tensor directly from a data\n",
    "x = torch.tensor([[1,2,3],[4,5,6]])\n",
    "print(x)"
   ]
  },
  {
   "cell_type": "code",
   "execution_count": 6,
   "metadata": {},
   "outputs": [
    {
     "name": "stdout",
     "output_type": "stream",
     "text": [
      "tensor([[1, 1, 1],\n",
      "        [1, 1, 1],\n",
      "        [1, 1, 1],\n",
      "        [1, 1, 1],\n",
      "        [1, 1, 1]], dtype=torch.int32)\n",
      "tensor([[0.9248, 0.4732, 0.0949],\n",
      "        [0.8143, 0.7549, 0.1488],\n",
      "        [0.0046, 0.6145, 0.1120],\n",
      "        [0.4367, 0.0302, 0.3311],\n",
      "        [0.9656, 0.5791, 0.4976]])\n"
     ]
    }
   ],
   "source": [
    "#construct a tensor based on a existing tensor. you can reuse properties(eg. dtype) \n",
    "x = x.new_ones(5, 3, dtype = torch.int)\n",
    "print(x)\n",
    "\n",
    "x = torch.rand_like(x, dtype = torch.float)\n",
    "print(x)"
   ]
  },
  {
   "cell_type": "code",
   "execution_count": 12,
   "metadata": {},
   "outputs": [
    {
     "name": "stdout",
     "output_type": "stream",
     "text": [
      "tensor([[ 0.1789,  2.1058, -0.7783],\n",
      "        [-1.9073,  1.1378, -1.0137],\n",
      "        [-1.2758,  1.7787,  1.3598],\n",
      "        [-0.7554,  1.2743,  0.0725],\n",
      "        [-0.4151,  1.8740, -0.5408]])\n"
     ]
    }
   ],
   "source": [
    "# construct a tensor mean is 0, variation is 1\n",
    "x = torch.randn(5, 3)\n",
    "print(x)"
   ]
  },
  {
   "cell_type": "code",
   "execution_count": 13,
   "metadata": {},
   "outputs": [
    {
     "name": "stdout",
     "output_type": "stream",
     "text": [
      "torch.Size([5, 3])\n"
     ]
    }
   ],
   "source": [
    "#tensor size\n",
    "print(x.size())"
   ]
  },
  {
   "cell_type": "markdown",
   "metadata": {},
   "source": [
    "# Tensor Operation\n",
    "\n",
    "### 1. Add"
   ]
  },
  {
   "cell_type": "code",
   "execution_count": 25,
   "metadata": {},
   "outputs": [
    {
     "name": "stdout",
     "output_type": "stream",
     "text": [
      "tensor([[0.0595, 0.6315, 0.9393],\n",
      "        [0.6289, 0.9304, 0.6160],\n",
      "        [0.3653, 0.0916, 0.0233],\n",
      "        [0.6163, 0.4585, 0.3104],\n",
      "        [0.6292, 0.5259, 0.9132]])\n",
      "tensor([[1., 1., 1.],\n",
      "        [1., 1., 1.],\n",
      "        [1., 1., 1.],\n",
      "        [1., 1., 1.],\n",
      "        [1., 1., 1.]])\n"
     ]
    }
   ],
   "source": [
    "x = torch.rand(5,3)\n",
    "y = torch.ones(5,3)\n",
    "print(x)\n",
    "print(y)"
   ]
  },
  {
   "cell_type": "code",
   "execution_count": 26,
   "metadata": {},
   "outputs": [
    {
     "name": "stdout",
     "output_type": "stream",
     "text": [
      "tensor([[1.0595, 1.6315, 1.9393],\n",
      "        [1.6289, 1.9304, 1.6160],\n",
      "        [1.3653, 1.0916, 1.0233],\n",
      "        [1.6163, 1.4585, 1.3104],\n",
      "        [1.6292, 1.5259, 1.9132]])\n"
     ]
    }
   ],
   "source": [
    "z = x + y\n",
    "print(z)"
   ]
  },
  {
   "cell_type": "code",
   "execution_count": 27,
   "metadata": {},
   "outputs": [
    {
     "name": "stdout",
     "output_type": "stream",
     "text": [
      "tensor([[1.0595, 1.6315, 1.9393],\n",
      "        [1.6289, 1.9304, 1.6160],\n",
      "        [1.3653, 1.0916, 1.0233],\n",
      "        [1.6163, 1.4585, 1.3104],\n",
      "        [1.6292, 1.5259, 1.9132]])\n"
     ]
    }
   ],
   "source": [
    "z = torch.add(x, y)\n",
    "print(z)"
   ]
  },
  {
   "cell_type": "code",
   "execution_count": 28,
   "metadata": {},
   "outputs": [
    {
     "name": "stdout",
     "output_type": "stream",
     "text": [
      "tensor([[1.0595, 1.6315, 1.9393],\n",
      "        [1.6289, 1.9304, 1.6160],\n",
      "        [1.3653, 1.0916, 1.0233],\n",
      "        [1.6163, 1.4585, 1.3104],\n",
      "        [1.6292, 1.5259, 1.9132]])\n"
     ]
    }
   ],
   "source": [
    "z = torch.empty(5,3)\n",
    "torch.add(x, y, out = z)\n",
    "print(z)"
   ]
  },
  {
   "cell_type": "code",
   "execution_count": 29,
   "metadata": {},
   "outputs": [
    {
     "name": "stdout",
     "output_type": "stream",
     "text": [
      "x : tensor([[0.0595, 0.6315, 0.9393],\n",
      "        [0.6289, 0.9304, 0.6160],\n",
      "        [0.3653, 0.0916, 0.0233],\n",
      "        [0.6163, 0.4585, 0.3104],\n",
      "        [0.6292, 0.5259, 0.9132]])\n",
      "y : tensor([[1.0595, 1.6315, 1.9393],\n",
      "        [1.6289, 1.9304, 1.6160],\n",
      "        [1.3653, 1.0916, 1.0233],\n",
      "        [1.6163, 1.4585, 1.3104],\n",
      "        [1.6292, 1.5259, 1.9132]])\n"
     ]
    }
   ],
   "source": [
    "# adds x to y\n",
    "\n",
    "y.add_(x)\n",
    "print('x :', x)\n",
    "print('y :', y)"
   ]
  },
  {
   "cell_type": "code",
   "execution_count": 30,
   "metadata": {},
   "outputs": [],
   "source": [
    "# Any operation that mutates a tensor in-place is post-fixed with an _. For example: x.copy_(y), x.t_(), will change x"
   ]
  },
  {
   "cell_type": "markdown",
   "metadata": {},
   "source": [
    "### 2. Multiplication"
   ]
  },
  {
   "cell_type": "code",
   "execution_count": 31,
   "metadata": {},
   "outputs": [
    {
     "name": "stdout",
     "output_type": "stream",
     "text": [
      "tensor([[0.8295, 0.6913, 0.1650],\n",
      "        [0.2890, 0.5837, 0.8128],\n",
      "        [0.9257, 0.0179, 0.3830],\n",
      "        [0.7213, 0.4103, 0.1171],\n",
      "        [0.8746, 0.0193, 0.7043]])\n",
      "tensor([[1., 1., 1.],\n",
      "        [1., 1., 1.],\n",
      "        [1., 1., 1.],\n",
      "        [1., 1., 1.],\n",
      "        [1., 1., 1.]])\n"
     ]
    }
   ],
   "source": [
    "x = torch.rand(5,3)\n",
    "y = torch.ones(5,3)\n",
    "print(x)\n",
    "print(y)"
   ]
  },
  {
   "cell_type": "code",
   "execution_count": 32,
   "metadata": {},
   "outputs": [
    {
     "name": "stdout",
     "output_type": "stream",
     "text": [
      "tensor([[0.8295, 0.6913, 0.1650],\n",
      "        [0.2890, 0.5837, 0.8128],\n",
      "        [0.9257, 0.0179, 0.3830],\n",
      "        [0.7213, 0.4103, 0.1171],\n",
      "        [0.8746, 0.0193, 0.7043]])\n"
     ]
    }
   ],
   "source": [
    "#multiplication by element\n",
    "z = torch.mul(x, y)\n",
    "print(z)"
   ]
  },
  {
   "cell_type": "code",
   "execution_count": 37,
   "metadata": {},
   "outputs": [
    {
     "data": {
      "text/plain": [
       "tensor(5)"
      ]
     },
     "execution_count": 37,
     "metadata": {},
     "output_type": "execute_result"
    }
   ],
   "source": [
    "#dot product\n",
    "\n",
    "z = torch.tensor([1,2])\n",
    "\n",
    "torch.dot(z,z)"
   ]
  },
  {
   "cell_type": "code",
   "execution_count": 38,
   "metadata": {},
   "outputs": [
    {
     "name": "stdout",
     "output_type": "stream",
     "text": [
      "tensor([[1.6858, 1.6858, 1.6858, 1.6858, 1.6858],\n",
      "        [1.6855, 1.6855, 1.6855, 1.6855, 1.6855],\n",
      "        [1.3265, 1.3265, 1.3265, 1.3265, 1.3265],\n",
      "        [1.2487, 1.2487, 1.2487, 1.2487, 1.2487],\n",
      "        [1.5981, 1.5981, 1.5981, 1.5981, 1.5981]])\n"
     ]
    }
   ],
   "source": [
    "#matrix multiplication\n",
    "z = torch.mm(x,y)\n",
    "print(z)"
   ]
  },
  {
   "cell_type": "markdown",
   "metadata": {},
   "source": [
    "# Slicing\n",
    "same with standard numpy slicing"
   ]
  },
  {
   "cell_type": "code",
   "execution_count": 30,
   "metadata": {},
   "outputs": [
    {
     "name": "stdout",
     "output_type": "stream",
     "text": [
      "tensor([ 1,  2,  3,  4,  5,  6,  7,  8,  9, 10, 11, 12, 13, 14, 15, 16, 17, 18,\n",
      "        19, 20])\n"
     ]
    }
   ],
   "source": [
    "x = torch.arange(1,21, step=1)\n",
    "print(x)"
   ]
  },
  {
   "cell_type": "code",
   "execution_count": 33,
   "metadata": {},
   "outputs": [
    {
     "name": "stdout",
     "output_type": "stream",
     "text": [
      "tensor([[ 1,  2,  3,  4,  5],\n",
      "        [ 6,  7,  8,  9, 10],\n",
      "        [11, 12, 13, 14, 15],\n",
      "        [16, 17, 18, 19, 20]])\n"
     ]
    }
   ],
   "source": [
    "x = x.reshape(4,5) \n",
    "print(x)\n",
    "\n",
    "#you can use torch.view(4,5) for resizing/reshaping\n",
    "#torch.reshape just copy of original tensor but torch.view make change original tensor"
   ]
  },
  {
   "cell_type": "code",
   "execution_count": 34,
   "metadata": {},
   "outputs": [
    {
     "data": {
      "text/plain": [
       "tensor([[ 1,  2,  3,  4,  5],\n",
       "        [ 6,  7,  8,  9, 10],\n",
       "        [11, 12, 13, 14, 15],\n",
       "        [16, 17, 18, 19, 20]])"
      ]
     },
     "execution_count": 34,
     "metadata": {},
     "output_type": "execute_result"
    }
   ],
   "source": [
    "x[:,:]"
   ]
  },
  {
   "cell_type": "code",
   "execution_count": 35,
   "metadata": {},
   "outputs": [
    {
     "data": {
      "text/plain": [
       "tensor([[ 6,  7,  8,  9, 10],\n",
       "        [11, 12, 13, 14, 15],\n",
       "        [16, 17, 18, 19, 20]])"
      ]
     },
     "execution_count": 35,
     "metadata": {},
     "output_type": "execute_result"
    }
   ],
   "source": [
    "x[1:,:]"
   ]
  },
  {
   "cell_type": "code",
   "execution_count": 36,
   "metadata": {},
   "outputs": [
    {
     "data": {
      "text/plain": [
       "tensor([[14, 15],\n",
       "        [19, 20]])"
      ]
     },
     "execution_count": 36,
     "metadata": {},
     "output_type": "execute_result"
    }
   ],
   "source": [
    "x[2:,3:]"
   ]
  },
  {
   "cell_type": "markdown",
   "metadata": {},
   "source": [
    "# NumPy Bridge"
   ]
  },
  {
   "cell_type": "code",
   "execution_count": 42,
   "metadata": {},
   "outputs": [],
   "source": [
    "import numpy as np"
   ]
  },
  {
   "cell_type": "code",
   "execution_count": 59,
   "metadata": {},
   "outputs": [
    {
     "name": "stdout",
     "output_type": "stream",
     "text": [
      "a : [[1 2 3]\n",
      " [4 5 6]]\n",
      "b : tensor([[1, 2, 3],\n",
      "        [4, 5, 6]])\n"
     ]
    }
   ],
   "source": [
    "# numpy to torch\n",
    "a = np.array([[1,2,3],[4,5,6]])\n",
    "print('a :', a)\n",
    "\n",
    "b = torch.from_numpy(a)\n",
    "print('b :', b)"
   ]
  },
  {
   "cell_type": "code",
   "execution_count": 60,
   "metadata": {},
   "outputs": [
    {
     "name": "stdout",
     "output_type": "stream",
     "text": [
      "a : [[2 3 4]\n",
      " [5 6 7]]\n",
      "b : tensor([[2, 3, 4],\n",
      "        [5, 6, 7]])\n"
     ]
    }
   ],
   "source": [
    "np.add(a, 1, out=a)\n",
    "\n",
    "print('a :', a)\n",
    "print('b :', b)"
   ]
  },
  {
   "cell_type": "code",
   "execution_count": 56,
   "metadata": {},
   "outputs": [
    {
     "name": "stdout",
     "output_type": "stream",
     "text": [
      "x : tensor([[ 1,  2,  3,  4,  5],\n",
      "        [ 6,  7,  8,  9, 10],\n",
      "        [11, 12, 13, 14, 15],\n",
      "        [16, 17, 18, 19, 20]])\n",
      "xx : [[ 1  2  3  4  5]\n",
      " [ 6  7  8  9 10]\n",
      " [11 12 13 14 15]\n",
      " [16 17 18 19 20]]\n"
     ]
    }
   ],
   "source": [
    "#torch to numpy\n",
    "print('x :', x)\n",
    "\n",
    "xx = x.numpy()\n",
    "print('xx :', xx)"
   ]
  },
  {
   "cell_type": "code",
   "execution_count": 57,
   "metadata": {},
   "outputs": [
    {
     "name": "stdout",
     "output_type": "stream",
     "text": [
      "x : tensor([[ 2,  3,  4,  5,  6],\n",
      "        [ 7,  8,  9, 10, 11],\n",
      "        [12, 13, 14, 15, 16],\n",
      "        [17, 18, 19, 20, 21]])\n",
      "xx : [[ 2  3  4  5  6]\n",
      " [ 7  8  9 10 11]\n",
      " [12 13 14 15 16]\n",
      " [17 18 19 20 21]]\n"
     ]
    }
   ],
   "source": [
    "#x.numpy just copy the data of x\n",
    "\n",
    "x.add_(1)\n",
    "print('x :', x)\n",
    "print('xx :', xx)"
   ]
  }
 ],
 "metadata": {
  "kernelspec": {
   "display_name": "Python 3",
   "language": "python",
   "name": "python3"
  },
  "language_info": {
   "codemirror_mode": {
    "name": "ipython",
    "version": 3
   },
   "file_extension": ".py",
   "mimetype": "text/x-python",
   "name": "python",
   "nbconvert_exporter": "python",
   "pygments_lexer": "ipython3",
   "version": "3.6.7"
  }
 },
 "nbformat": 4,
 "nbformat_minor": 2
}
