{
 "cells": [
  {
   "cell_type": "code",
   "execution_count": 1,
   "metadata": {},
   "outputs": [],
   "source": [
    "import torch\n",
    "import torch.nn as nn\n",
    "import torch.nn.functional as F\n",
    "import torch.optim as optim\n",
    "\n",
    "import torch.nn.init\n",
    "from torch.autograd import Variable\n",
    "\n",
    "import torchvision.utils as utils\n",
    "import torchvision.datasets as dsets\n",
    "import torchvision.transforms as transforms\n",
    "\n",
    "import numpy as np\n",
    "import random"
   ]
  },
  {
   "cell_type": "code",
   "execution_count": 2,
   "metadata": {},
   "outputs": [],
   "source": [
    "import matplotlib.pyplot as plt\n",
    "%matplotlib inline"
   ]
  },
  {
   "cell_type": "markdown",
   "metadata": {},
   "source": [
    "### 1. Prepare Data"
   ]
  },
  {
   "cell_type": "code",
   "execution_count": 3,
   "metadata": {},
   "outputs": [
    {
     "name": "stdout",
     "output_type": "stream",
     "text": [
      "Downloading http://yann.lecun.com/exdb/mnist/train-images-idx3-ubyte.gz\n",
      "Downloading http://yann.lecun.com/exdb/mnist/train-labels-idx1-ubyte.gz\n",
      "Downloading http://yann.lecun.com/exdb/mnist/t10k-images-idx3-ubyte.gz\n",
      "Downloading http://yann.lecun.com/exdb/mnist/t10k-labels-idx1-ubyte.gz\n",
      "Processing...\n",
      "Done!\n"
     ]
    }
   ],
   "source": [
    "mnist_train = dsets.MNIST(root = './data/', train = True, transform = transforms.ToTensor(), download = True)\n",
    "mnist_test = dsets.MNIST(root = './data/', train = False, transform = transforms.ToTensor(), download = True)"
   ]
  },
  {
   "cell_type": "code",
   "execution_count": 5,
   "metadata": {},
   "outputs": [
    {
     "name": "stdout",
     "output_type": "stream",
     "text": [
      "torch.Size([60000, 28, 28])\n",
      "torch.Size([10000, 28, 28])\n"
     ]
    }
   ],
   "source": [
    "######checking######\n",
    "\n",
    "print(mnist_train.train_data.size())\n",
    "print(mnist_test.test_data.size())"
   ]
  },
  {
   "cell_type": "code",
   "execution_count": 6,
   "metadata": {},
   "outputs": [
    {
     "data": {
      "text/plain": [
       "<matplotlib.image.AxesImage at 0x12b3b52e8>"
      ]
     },
     "execution_count": 6,
     "metadata": {},
     "output_type": "execute_result"
    },
    {
     "data": {
      "image/png": "[encoded data removed]",
      "text/plain": [
       "<Figure size 1080x360 with 3 Axes>"
      ]
     },
     "metadata": {
      "needs_background": "light"
     },
     "output_type": "display_data"
    }
   ],
   "source": [
    "######checking######\n",
    "\n",
    "fig = plt.figure(figsize = (15, 5))\n",
    "ax1 = fig.add_subplot(1, 3, 1)\n",
    "ax2 = fig.add_subplot(1, 3, 2)\n",
    "ax3 = fig.add_subplot(1, 3, 3)\n",
    "\n",
    "ax1.set_title(str(mnist_train.train_labels[0]))\n",
    "ax1.imshow(mnist_train.train_data[0,:,:].numpy(), cmap='gray')\n",
    "\n",
    "ax2.set_title(str(mnist_train.train_labels[1]))\n",
    "ax2.imshow(mnist_train.train_data[1,:,:].numpy(), cmap='gray')\n",
    "\n",
    "ax3.set_title(str(mnist_train.train_labels[2]))\n",
    "ax3.imshow(mnist_train.train_data[2,:,:].numpy(), cmap='gray')"
   ]
  },
  {
   "cell_type": "markdown",
   "metadata": {},
   "source": [
    "### 2. Batch Training"
   ]
  },
  {
   "cell_type": "code",
   "execution_count": 7,
   "metadata": {},
   "outputs": [],
   "source": [
    "batch_size = 100\n",
    "\n",
    "data_loader  = torch.utils.data.DataLoader(dataset=mnist_train,\n",
    "                                          batch_size=batch_size,\n",
    "                                          shuffle=True,\n",
    "                                          num_workers=1)\n",
    "\n",
    "# dataset (Dataset) – dataset from which to load the data.\n",
    "# batch_size (int, optional) – how many samples per batch to load (default: 1).\n",
    "# shuffle (bool, optional) – set to True to have the data reshuffled at every epoch (default: False).\n",
    "# num_workers (int, optional) – how many subprocesses to use for data loading. 0 means that the data will be loaded in the main process. (default: 0)"
   ]
  },
  {
   "cell_type": "code",
   "execution_count": 8,
   "metadata": {},
   "outputs": [
    {
     "name": "stdout",
     "output_type": "stream",
     "text": [
      "[9 4 0 9 4 5 8 9 4 3 6 9 8 0 4 2 5 0 8 1 4 0 1 2 7 8 6 9 4 7 4 4 3 9 7 6 3\n",
      " 8 4 3 4 8 4 0 8 5 6 7 5 8 5 2 9 5 5 6 8 6 2 3 9 7 1 1 7 1 6 5 6 0 2 3 2 6\n",
      " 9 7 3 3 4 7 9 3 2 2 1 5 6 0 0 2 3 1 9 7 4 0 4 3 3 7] ,  100\n",
      "[1 6 5 4 5 7 7 9 3 5 0 8 5 4 3 3 6 5 9 2 9 9 3 7 9 5 3 6 5 0 8 0 9 8 2 9 2\n",
      " 2 2 7 3 0 0 5 3 7 3 7 7 3 1 1 1 3 3 2 2 8 5 9 9 6 8 4 3 2 8 8 5 8 1 8 2 4\n",
      " 3 7 8 2 7 6 0 8 6 3 3 6 1 6 3 2 7 2 2 7 6 2 3 2 9 6] ,  100\n",
      "[0 7 4 1 4 6 5 4 2 9 8 4 3 8 1 9 9 6 5 8 3 9 6 6 1 8 8 7 7 7 0 3 1 4 1 4 6\n",
      " 7 1 9 0 6 1 8 8 9 9 5 3 7 6 7 8 6 1 8 6 1 7 1 7 7 3 8 2 4 5 9 0 8 5 0 1 3\n",
      " 6 7 9 4 8 5 8 4 5 2 0 7 0 6 4 9 8 8 2 2 2 3 0 5 1 0] ,  100\n"
     ]
    }
   ],
   "source": [
    "######checking######\n",
    "\n",
    "for i in range(3) :\n",
    "    batch_images, batch_labels = next(iter(data_loader))\n",
    "    print(batch_labels.numpy(), \", \", len(batch_labels.numpy()))"
   ]
  },
  {
   "cell_type": "markdown",
   "metadata": {},
   "source": [
    "### 3. Define Model"
   ]
  },
  {
   "cell_type": "code",
   "execution_count": 9,
   "metadata": {},
   "outputs": [
    {
     "name": "stdout",
     "output_type": "stream",
     "text": [
      "Net(\n",
      "  (L1): Linear(in_features=784, out_features=512, bias=True)\n",
      "  (L2): Linear(in_features=512, out_features=10, bias=True)\n",
      ")\n"
     ]
    }
   ],
   "source": [
    "class Net(nn.Module):\n",
    "    \n",
    "    def __init__(self):\n",
    "        super(Net, self).__init__()\n",
    "        self.L1 = nn.Linear(28 * 28, 512, bias = True)\n",
    "        self.L2 = nn.Linear(512, 10, bias = True)\n",
    "        \n",
    "    def forward(self, x):\n",
    "        x = F.relu(self.L1(x))\n",
    "        x = self.L2(x)\n",
    "        return x\n",
    "        \n",
    "    def num_flat_features(self, x):\n",
    "        size = x.size()[1:]  # all dimensions except the batch dimension\n",
    "        num_features = 1\n",
    "        for s in size:\n",
    "            num_features *= s\n",
    "        return num_features\n",
    "\n",
    "net = Net()\n",
    "print(net)"
   ]
  },
  {
   "cell_type": "markdown",
   "metadata": {},
   "source": [
    "### 4. Define Loss function and Optimizer\n",
    "* Loss function : Cross-Entropy loss\n",
    "* Optimizer = SGD\n",
    "* learning rate = 0.001\n",
    "* total epochs = 5"
   ]
  },
  {
   "cell_type": "code",
   "execution_count": 11,
   "metadata": {},
   "outputs": [],
   "source": [
    "loss = nn.CrossEntropyLoss()\n",
    "optimizer = optim.SGD(net.parameters(), lr=0.001)"
   ]
  },
  {
   "cell_type": "code",
   "execution_count": 13,
   "metadata": {},
   "outputs": [],
   "source": [
    "num_epochs = 5"
   ]
  },
  {
   "cell_type": "code",
   "execution_count": 17,
   "metadata": {},
   "outputs": [
    {
     "name": "stdout",
     "output_type": "stream",
     "text": [
      "Epoch [1/5], lter [100/600] Loss: 2.2303\n",
      "Epoch [1/5], lter [200/600] Loss: 2.2087\n",
      "Epoch [1/5], lter [300/600] Loss: 2.1816\n",
      "Epoch [1/5], lter [400/600] Loss: 2.1584\n",
      "Epoch [1/5], lter [500/600] Loss: 2.1328\n",
      "Epoch [1/5], lter [600/600] Loss: 2.1377\n",
      "Epoch [2/5], lter [100/600] Loss: 2.0674\n",
      "Epoch [2/5], lter [200/600] Loss: 2.0507\n",
      "Epoch [2/5], lter [300/600] Loss: 2.0357\n",
      "Epoch [2/5], lter [400/600] Loss: 1.9803\n",
      "Epoch [2/5], lter [500/600] Loss: 1.9720\n",
      "Epoch [2/5], lter [600/600] Loss: 1.9073\n",
      "Epoch [3/5], lter [100/600] Loss: 1.8753\n",
      "Epoch [3/5], lter [200/600] Loss: 1.8339\n",
      "Epoch [3/5], lter [300/600] Loss: 1.8602\n",
      "Epoch [3/5], lter [400/600] Loss: 1.7857\n",
      "Epoch [3/5], lter [500/600] Loss: 1.7434\n",
      "Epoch [3/5], lter [600/600] Loss: 1.7408\n",
      "Epoch [4/5], lter [100/600] Loss: 1.7184\n",
      "Epoch [4/5], lter [200/600] Loss: 1.6715\n",
      "Epoch [4/5], lter [300/600] Loss: 1.6212\n",
      "Epoch [4/5], lter [400/600] Loss: 1.6155\n",
      "Epoch [4/5], lter [500/600] Loss: 1.5368\n",
      "Epoch [4/5], lter [600/600] Loss: 1.4903\n",
      "Epoch [5/5], lter [100/600] Loss: 1.4277\n",
      "Epoch [5/5], lter [200/600] Loss: 1.4506\n",
      "Epoch [5/5], lter [300/600] Loss: 1.3633\n",
      "Epoch [5/5], lter [400/600] Loss: 1.3856\n",
      "Epoch [5/5], lter [500/600] Loss: 1.3359\n",
      "Epoch [5/5], lter [600/600] Loss: 1.4038\n",
      "Learning Finished!\n"
     ]
    }
   ],
   "source": [
    "for epoch in range(num_epochs):\n",
    "    \n",
    "    total_batch = len(mnist_train) // batch_size\n",
    "    \n",
    "    for i, (batch_images, batch_labels) in enumerate(data_loader):\n",
    "        \n",
    "        inputs = Variable(batch_images.view(-1, 28 * 28))\n",
    "        labels = Variable(batch_labels)\n",
    "        \n",
    "        outputs = net(inputs)\n",
    "        cost = loss(outputs, labels)\n",
    "        \n",
    "        optimizer.zero_grad()\n",
    "        \n",
    "        cost.backward()\n",
    "        optimizer.step()\n",
    "        \n",
    "        if (i+1) % 100 == 0:\n",
    "            print('Epoch [%d/%d], lter [%d/%d] Loss: %.4f'\n",
    "                 %(epoch+1, num_epochs, i+1, total_batch, cost.item()))\n",
    "    \n",
    "print(\"Learning Finished!\")"
   ]
  },
  {
   "cell_type": "markdown",
   "metadata": {},
   "source": [
    "### 5. Test!!!"
   ]
  },
  {
   "cell_type": "code",
   "execution_count": 19,
   "metadata": {},
   "outputs": [
    {
     "name": "stdout",
     "output_type": "stream",
     "text": [
      "Accuracy of test images: 79.000000 %\n"
     ]
    }
   ],
   "source": [
    "net.eval()\n",
    "\n",
    "correct = 0\n",
    "total = 0\n",
    "\n",
    "for images, labels in mnist_test:\n",
    "    \n",
    "    images  = Variable(images.view(-1, 28 * 28))\n",
    "    outputs = net(images)\n",
    "    \n",
    "    _, predicted = torch.max(outputs.data, 1)\n",
    "    total += 1\n",
    "    correct += (predicted == labels).sum()\n",
    "    \n",
    "print('Accuracy of test images: %f %%' % (100 * correct / total))"
   ]
  }
 ],
 "metadata": {
  "kernelspec": {
   "display_name": "Python 3",
   "language": "python",
   "name": "python3"
  },
  "language_info": {
   "codemirror_mode": {
    "name": "ipython",
    "version": 3
   },
   "file_extension": ".py",
   "mimetype": "text/x-python",
   "name": "python",
   "nbconvert_exporter": "python",
   "pygments_lexer": "ipython3",
   "version": "3.6.7"
  }
 },
 "nbformat": 4,
 "nbformat_minor": 2
}
