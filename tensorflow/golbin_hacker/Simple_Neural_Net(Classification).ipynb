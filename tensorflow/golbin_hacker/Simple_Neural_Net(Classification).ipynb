{
 "cells": [
  {
   "cell_type": "markdown",
   "metadata": {},
   "source": [
    "## Activation Function(활성화 함수)\n",
    "- 활성화 함수는 네트워크를 통과해온 값을 최종적으로 어떤 값으로 만들지를 결정\n",
    "- 비선형 함수이면서 미분가능한 함수여야함  \n",
    "    선형일 경우, 네트워크 안의 선형적인 계산과 별반 다를 것이 없게 됨(즉, 쓸모가 없음)  \n",
    "    backpropagation시 미분 값을 전파함으로 미분이 가능한 함수여야 함  \n",
    "- Sigmoid, tanh, ReLU등이 있음 (최근에는 ReLU를 많이 씀)"
   ]
  },
  {
   "cell_type": "markdown",
   "metadata": {},
   "source": [
    "## Backporpagaiton(역전파)\n",
    "- 네트워크를 따라서 나온 결과값과 정답과의 오차를 신경망을 따라 입력층까지 역으로 전파하여 계산\n",
    "- 미분값을 전해주며, chain rule에 따라 모든 값을 곱해나감"
   ]
  },
  {
   "cell_type": "code",
   "execution_count": 1,
   "metadata": {},
   "outputs": [],
   "source": [
    "import numpy as np\n",
    "import tensorflow as tf"
   ]
  },
  {
   "cell_type": "markdown",
   "metadata": {},
   "source": [
    "#### 1. Data Preprocessing(데이터 준비하기)\n",
    "1. 털과 날개가 있느냐를 담은 특징 데이터를 준비  \n",
    "   있으면 1, 없으면 0"
   ]
  },
  {
   "cell_type": "code",
   "execution_count": 2,
   "metadata": {},
   "outputs": [],
   "source": [
    "# [털, 날개]\n",
    "x_data = np.array([[0, 0], [1, 0], [1, 1], [0, 0], [0, 0], [0, 1]])"
   ]
  },
  {
   "cell_type": "markdown",
   "metadata": {},
   "source": [
    "2. 각 객체가 어떤 종류인지를 알려주는 레이블 데이터(정답값)  \n",
    "    one-hot-encoding(원핫인코딩)을 사용  \n",
    "    (원핫인코딩은 다음과 같이 해당되는 부분만을 1로 표현하는 표기법)\n",
    "    - 기타 = [1, 0, 0]\n",
    "    - 포유류 = [0, 1, 0]\n",
    "    - 조류 = [0, 0, 1]  \n"
   ]
  },
  {
   "cell_type": "code",
   "execution_count": 3,
   "metadata": {},
   "outputs": [],
   "source": [
    "y_data = np.array([\n",
    "    [1, 0, 0],\n",
    "    [0, 1, 0],\n",
    "    [0, 0, 1],\n",
    "    [1, 0, 0],\n",
    "    [1, 0, 0],\n",
    "    [0, 0, 1]\n",
    "])"
   ]
  },
  {
   "cell_type": "markdown",
   "metadata": {},
   "source": [
    "#### 2. Model(신경망 구성하기)"
   ]
  },
  {
   "cell_type": "code",
   "execution_count": 4,
   "metadata": {},
   "outputs": [],
   "source": [
    "X = tf.placeholder(tf.float32)\n",
    "Y = tf.placeholder(tf.float32)"
   ]
  },
  {
   "cell_type": "code",
   "execution_count": 6,
   "metadata": {},
   "outputs": [],
   "source": [
    "W = tf.Variable(tf.random_uniform([2, 3], -1., 1.))\n",
    "b = tf.Variable(tf.zeros([3]))"
   ]
  },
  {
   "cell_type": "code",
   "execution_count": 7,
   "metadata": {},
   "outputs": [],
   "source": [
    "L = tf.add(tf.matmul(X, W), b)\n",
    "L = tf.nn.relu(L) #activation func인 relu 사용"
   ]
  },
  {
   "cell_type": "code",
   "execution_count": 8,
   "metadata": {},
   "outputs": [],
   "source": [
    "# softmax함수를 이용하여 확률값처럼 이용할 수 있게 만들어줌  \n",
    "# (softmax함수를 통과하면 모든 값의 합이 1이되므로 확률처럼 해석할 수 있음)\n",
    "model = tf.nn.softmax(L)"
   ]
  },
  {
   "cell_type": "code",
   "execution_count": 12,
   "metadata": {},
   "outputs": [],
   "source": [
    "#loss func으로는 cross-entropy(교차 엔트로피)를 사용(보통 원핫인코딩시에 많이 사용함)\n",
    "cost = tf.reduce_mean(-tf.reduce_sum(Y * tf.log(model), axis = 1))"
   ]
  },
  {
   "cell_type": "code",
   "execution_count": 13,
   "metadata": {},
   "outputs": [],
   "source": [
    "#optimizer = GD\n",
    "optimizer = tf.train.GradientDescentOptimizer(learning_rate=0.01)\n",
    "train_op = optimizer.minimize(cost)"
   ]
  },
  {
   "cell_type": "markdown",
   "metadata": {},
   "source": [
    "#### 3. Training (학습하기)"
   ]
  },
  {
   "cell_type": "code",
   "execution_count": 24,
   "metadata": {},
   "outputs": [
    {
     "name": "stdout",
     "output_type": "stream",
     "text": [
      "10 0.9710645\n",
      "20 0.9666026\n",
      "30 0.96228045\n",
      "40 0.9580889\n",
      "50 0.95403546\n",
      "60 0.9501911\n",
      "70 0.9463763\n",
      "80 0.9427941\n",
      "90 0.9392418\n",
      "100 0.93581086\n"
     ]
    }
   ],
   "source": [
    "#session 초기화\n",
    "init = tf.global_variables_initializer()\n",
    "sess = tf.Session()\n",
    "sess.run(init)\n",
    "\n",
    "#training = 100번\n",
    "for step in range(100) :\n",
    "    sess.run(train_op, feed_dict={X: x_data, Y: y_data})\n",
    "    \n",
    "    if (step + 1) % 10 == 0 :\n",
    "        print(step+1, sess.run(cost, feed_dict={X: x_data, Y: y_data}))"
   ]
  },
  {
   "cell_type": "markdown",
   "metadata": {},
   "source": [
    "#### 4. Evaluation(모델 평가하기)"
   ]
  },
  {
   "cell_type": "code",
   "execution_count": 25,
   "metadata": {},
   "outputs": [
    {
     "name": "stdout",
     "output_type": "stream",
     "text": [
      "예측값: [0 2 2 0 0 2]\n",
      "정답값: [0 1 2 0 0 2]\n"
     ]
    }
   ],
   "source": [
    "prediction = tf.argmax(model, axis=1)\n",
    "target = tf.argmax(Y, axis=1)\n",
    "print(\"예측값:\", sess.run(prediction, feed_dict={X: x_data}))\n",
    "print(\"정답값:\", sess.run(target, feed_dict={Y: y_data}))"
   ]
  },
  {
   "cell_type": "code",
   "execution_count": 26,
   "metadata": {},
   "outputs": [
    {
     "name": "stdout",
     "output_type": "stream",
     "text": [
      "정확도: 83.33\n"
     ]
    }
   ],
   "source": [
    "#정확도 출력\n",
    "is_correct = tf.equal(prediction, target) #tf.equal을 통해 예측값과 정답값을 비교 (true, false)\n",
    "accuracy = tf.reduce_mean(tf.cast(is_correct, tf.float32)) #tf.cast를 통해 0과 1로 바꿈\n",
    "print('정확도: %.2f' % sess.run(accuracy * 100, feed_dict={X: x_data, Y: y_data}))"
   ]
  }
 ],
 "metadata": {
  "kernelspec": {
   "display_name": "Python 3",
   "language": "python",
   "name": "python3"
  },
  "language_info": {
   "codemirror_mode": {
    "name": "ipython",
    "version": 3
   },
   "file_extension": ".py",
   "mimetype": "text/x-python",
   "name": "python",
   "nbconvert_exporter": "python",
   "pygments_lexer": "ipython3",
   "version": "3.5.5"
  }
 },
 "nbformat": 4,
 "nbformat_minor": 2
}
