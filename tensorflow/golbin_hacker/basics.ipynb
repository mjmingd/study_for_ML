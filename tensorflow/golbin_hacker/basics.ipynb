{
 "cells": [
  {
   "cell_type": "code",
   "execution_count": 1,
   "metadata": {},
   "outputs": [],
   "source": [
    "import tensorflow as tf"
   ]
  },
  {
   "cell_type": "markdown",
   "metadata": {},
   "source": [
    "# TensorFlow 기본"
   ]
  },
  {
   "cell_type": "code",
   "execution_count": 2,
   "metadata": {},
   "outputs": [
    {
     "name": "stdout",
     "output_type": "stream",
     "text": [
      "Tensor(\"Const:0\", shape=(), dtype=string)\n"
     ]
    }
   ],
   "source": [
    "# 상수로 저장\n",
    "hello = tf.constant(\"Hellos, TensorFlow!\")\n",
    "print(hello)"
   ]
  },
  {
   "cell_type": "markdown",
   "metadata": {},
   "source": [
    "## 텐서플로우의 구조\n",
    "1. 그래프 생성\n",
    "2. 그래프 실행\n",
    "\n",
    "### 1. 그래프 생성\n",
    "\n",
    "- 그래프는 텐서들의 연산을 모아둔 것이라고 생각하면 됨.(어떻게 연산할 것이며 어떤 변수를 통해 연산할 것인지를 명시)\n",
    "- 텐서플로우는 그래프를 먼저 생성하고 이후 session을 통해 그래프를 실행"
   ]
  },
  {
   "cell_type": "code",
   "execution_count": 3,
   "metadata": {},
   "outputs": [
    {
     "name": "stdout",
     "output_type": "stream",
     "text": [
      "Tensor(\"Add:0\", shape=(), dtype=int32)\n"
     ]
    }
   ],
   "source": [
    "a = tf.constant(10) #constant는 상수 생성\n",
    "b = tf.constant(32)\n",
    "c = tf.add(a,b)\n",
    "print (c)"
   ]
  },
  {
   "cell_type": "markdown",
   "metadata": {},
   "source": [
    "### 2. 그래프의 실행\n",
    "- 연산을 실행하는 코드 (session 과 메소드 run)을 이용하여 '원하는 시점'에서 실제 연산을 수행\n",
    "- 그래프의 실행은 session안에서 이뤄져야 하며, run 메소드를 사용"
   ]
  },
  {
   "cell_type": "code",
   "execution_count": 4,
   "metadata": {},
   "outputs": [
    {
     "name": "stdout",
     "output_type": "stream",
     "text": [
      "b'Hellos, TensorFlow!'\n",
      "[10, 32, 42]\n"
     ]
    }
   ],
   "source": [
    "sess = tf.Session()\n",
    "\n",
    "print(sess.run(hello))\n",
    "print(sess.run([a,b,c]))\n",
    "\n",
    "sess.close()"
   ]
  },
  {
   "cell_type": "markdown",
   "metadata": {},
   "source": [
    "## 플레이스 홀더와 변수\n",
    "- placeholder : 그래프의 입력값을 나중에 받기 위해 사용하는 매개변수(그래프를 그리기 위해서 필요, run시에 입력값을 받게됨)\n",
    "- variable : 그래프를 ㅊ최적화하는 용도로 학습한 결과를 갱신하기 위해 사용되는 변수"
   ]
  },
  {
   "cell_type": "code",
   "execution_count": 5,
   "metadata": {},
   "outputs": [
    {
     "name": "stdout",
     "output_type": "stream",
     "text": [
      "Tensor(\"Placeholder:0\", shape=(?, 3), dtype=float32)\n"
     ]
    }
   ],
   "source": [
    "X = tf.placeholder(tf.float32,[None,3])\n",
    "print(X)"
   ]
  },
  {
   "cell_type": "code",
   "execution_count": 6,
   "metadata": {},
   "outputs": [],
   "source": [
    "#그래프의 X자리에 들어갈 실질적인 데이터 생성\n",
    "x_data = [[1,2,3],[4,5,6]]"
   ]
  },
  {
   "cell_type": "code",
   "execution_count": 7,
   "metadata": {},
   "outputs": [],
   "source": [
    "W = tf.Variable(tf.random_normal([3,2])) #random_normal을 통해 3x2 매트릭스를 생성, 매트릭스는 정규분포를 따라 무작위 값으로 생성\n",
    "b = tf.Variable(tf.random_normal([2,1])) #random_normal을 통해 2x1 매트릭스를 생성, 매트릭스는 정규분포를 따라 무작위 값으로 생성\n",
    "\n",
    "# 직접 매트릭스를 선언해서 만들 수도 있음\n",
    "# W = tf.Variable([[0.1, 0.1], [0.2, 0.2], [0.3, 0.3]])"
   ]
  },
  {
   "cell_type": "code",
   "execution_count": 8,
   "metadata": {},
   "outputs": [],
   "source": [
    "expr = tf.matmul(X, W) + b #matmul을 통해서 행렬의 곱"
   ]
  },
  {
   "cell_type": "code",
   "execution_count": 12,
   "metadata": {},
   "outputs": [
    {
     "name": "stdout",
     "output_type": "stream",
     "text": [
      "=== x_data ===\n",
      "[[1, 2, 3], [4, 5, 6]]\n",
      "=== W ===\n",
      "[[ 1.9017106   1.2112612 ]\n",
      " [ 0.54868776 -0.7823969 ]\n",
      " [ 0.04799627  0.0122571 ]]\n",
      "=== b ===\n",
      "[[1.1262695 ]\n",
      " [0.61888224]]\n",
      "=== expr ===\n",
      "[[ 4.2693443  0.8095081]\n",
      " [11.257141   1.625485 ]]\n"
     ]
    }
   ],
   "source": [
    "sess = tf.Session()\n",
    "sess.run(tf.global_variables_initializer()) #tf.global_variables_initializer :앞에서 정의한 변수들을 초기화\n",
    "                                            #(새로운 연산을 시작할 때에 반드시 사용)\n",
    "\n",
    "print(\"=== x_data ===\", x_data, sep='\\n')\n",
    "print(\"=== W ===\", sess.run(W), sep='\\n')\n",
    "print(\"=== b ===\", sess.run(b), sep='\\n')\n",
    "print(\"=== expr ===\", sess.run(expr, feed_dict={X: x_data}), sep='\\n') #feed_dict : 그래프를 실행할 때 사용할 값을 지정\n",
    "\n",
    "sess.close()\n"
   ]
  },
  {
   "cell_type": "code",
   "execution_count": null,
   "metadata": {},
   "outputs": [],
   "source": []
  }
 ],
 "metadata": {
  "kernelspec": {
   "display_name": "Python 3",
   "language": "python",
   "name": "python3"
  },
  "language_info": {
   "codemirror_mode": {
    "name": "ipython",
    "version": 3
   },
   "file_extension": ".py",
   "mimetype": "text/x-python",
   "name": "python",
   "nbconvert_exporter": "python",
   "pygments_lexer": "ipython3",
   "version": "3.5.5"
  }
 },
 "nbformat": 4,
 "nbformat_minor": 2
}
