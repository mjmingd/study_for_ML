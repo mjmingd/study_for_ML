{
 "cells": [
  {
   "cell_type": "markdown",
   "metadata": {},
   "source": [
    "## 텐서보드 사용하기\n",
    "텐서보드는 학습하는 중간중간 손실값이나 정확도 또는 결과물로 나온 이미지나 사운드 파일을 다양한 방식으로 시각화해 보여줄 수 있음"
   ]
  },
  {
   "cell_type": "code",
   "execution_count": 1,
   "metadata": {},
   "outputs": [],
   "source": [
    "import tensorflow as tf\n",
    "import numpy as np"
   ]
  },
  {
   "cell_type": "code",
   "execution_count": 2,
   "metadata": {},
   "outputs": [],
   "source": [
    "data = np.loadtxt('./data.csv', delimiter=',', unpack = True, dtype = 'float32')\n",
    "# unpack은 행렬의 column을 row로 바꿔주는 함수"
   ]
  },
  {
   "cell_type": "code",
   "execution_count": 3,
   "metadata": {},
   "outputs": [],
   "source": [
    "# data는 이전 simple_neural_net(classification)과 동일\n",
    "# 털,날개,기타,포유류,조류 순서로 되어있는 데이터이며(각 row를 의미) 털과 날개는 train에 필요한 data이다.\n",
    "# 기타,포유류,조류는 각 객체의 라벨을 원-핫-인코딩 한 결과라고 생각하면 된다"
   ]
  },
  {
   "cell_type": "code",
   "execution_count": 4,
   "metadata": {},
   "outputs": [
    {
     "name": "stdout",
     "output_type": "stream",
     "text": [
      "[[0. 1. 1. 0. 0. 0.]\n",
      " [0. 0. 1. 0. 0. 1.]\n",
      " [1. 0. 0. 1. 1. 0.]\n",
      " [0. 1. 0. 0. 0. 0.]\n",
      " [0. 0. 1. 0. 0. 1.]]\n"
     ]
    }
   ],
   "source": [
    "print(data)"
   ]
  },
  {
   "cell_type": "code",
   "execution_count": 5,
   "metadata": {},
   "outputs": [],
   "source": [
    "x_data = np.transpose(data[0:2])\n",
    "y_data = np.transpose(data[2:])"
   ]
  },
  {
   "cell_type": "code",
   "execution_count": 6,
   "metadata": {},
   "outputs": [],
   "source": [
    "# 학습 횟수를 카운트하기 위한 변수(학습이 되면 안되므로 trainable = False)\n",
    "global_step = tf.Variable(0, trainable = False, name = 'global_step')"
   ]
  },
  {
   "cell_type": "code",
   "execution_count": 7,
   "metadata": {},
   "outputs": [],
   "source": [
    "X = tf.placeholder(tf.float32)\n",
    "Y = tf.placeholder(tf.float32)"
   ]
  },
  {
   "cell_type": "markdown",
   "metadata": {},
   "source": [
    "텐서보드를 통해 시각화 했을때, 어느 변수가 어디에 쓰이는지 알기 쉽도록 scope와 name을 모두 정의"
   ]
  },
  {
   "cell_type": "code",
   "execution_count": 8,
   "metadata": {},
   "outputs": [],
   "source": [
    "with tf.name_scope('layer1') :\n",
    "    W1 = tf.Variable(tf.random_uniform([2, 10], -1., 1.), name= \"W1\")\n",
    "    L1 = tf.nn.relu(tf.matmul(X, W1))\n",
    "\n",
    "with tf.name_scope('layer2') :\n",
    "    W2 = tf.Variable(tf.random_uniform([10, 20], -1., 1.), name=\"W2\")\n",
    "    L2 = tf.nn.relu(tf.matmul(L1, W2))\n",
    "    \n",
    "with tf.name_scope('output'):\n",
    "    W3 = tf.Variable(tf.random_uniform([20, 3], -1., 1.), name=\"W3\")\n",
    "    model = tf.matmul(L2, W3)"
   ]
  },
  {
   "cell_type": "code",
   "execution_count": 9,
   "metadata": {},
   "outputs": [],
   "source": [
    "with tf.name_scope(\"optimizer\"):\n",
    "    cost = tf.reduce_mean(tf.nn.softmax_cross_entropy_with_logits_v2(labels=Y, logits=model))\n",
    "    optimizer = tf.train.AdamOptimizer(learning_rate = 0.01)\n",
    "    #global_step에 앞서 정의한 global_step변수를 넘겨줌으로써 학습을 할 때마다 1씩 증가하게 됨\n",
    "    train_op = optimizer.minimize(cost, global_step = global_step)\n",
    "    #손실값을 추적하기 위해 수집할 값을 지정 (histogram, image, audio등 다양한 값을 수집할 수 있음)\n",
    "    tf.summary.scalar('cost',cost)"
   ]
  },
  {
   "cell_type": "code",
   "execution_count": 10,
   "metadata": {},
   "outputs": [],
   "source": [
    "sess = tf.Session()\n",
    "\n",
    "#saver로 앞서 정의한 변수들을 모두 가져와 파일에 저장\n",
    "saver = tf.train.Saver(tf.global_variables())\n",
    "\n",
    "#check point를 통해 기존에 학습되어있는 모델이 있다면 restore로 다시 저장, 없다면 변수를 초기화하여 저장\n",
    "check_point = tf.train.get_checkpoint_state('./model')\n",
    "if check_point and tf.train.checkpoint_exists(check_point.model_checkpoint_path):\n",
    "    saver.restore(sess, check_point.model_checkpoint_path)\n",
    "else :\n",
    "    sess.run(tf.global_variables_initializer())"
   ]
  },
  {
   "cell_type": "markdown",
   "metadata": {},
   "source": [
    "merge_all 함수로 지정한 텐서들을 수집한 후, FileWriter 함수를 이용해 그래프와 텐스들의 값을 저장할 디렉토리를 설정"
   ]
  },
  {
   "cell_type": "code",
   "execution_count": 11,
   "metadata": {},
   "outputs": [],
   "source": [
    "merged = tf.summary.merge_all()\n",
    "writer = tf.summary.FileWriter('./logs', sess.graph)"
   ]
  },
  {
   "cell_type": "code",
   "execution_count": 12,
   "metadata": {},
   "outputs": [
    {
     "name": "stdout",
     "output_type": "stream",
     "text": [
      "Step: 1,  Cost: 1.034, \n",
      "Step: 2,  Cost: 0.957, \n",
      "Step: 3,  Cost: 0.896, \n",
      "Step: 4,  Cost: 0.844, \n",
      "Step: 5,  Cost: 0.801, \n",
      "Step: 6,  Cost: 0.765, \n",
      "Step: 7,  Cost: 0.733, \n",
      "Step: 8,  Cost: 0.707, \n",
      "Step: 9,  Cost: 0.685, \n",
      "Step: 10,  Cost: 0.667, \n",
      "Step: 11,  Cost: 0.652, \n",
      "Step: 12,  Cost: 0.639, \n",
      "Step: 13,  Cost: 0.628, \n",
      "Step: 14,  Cost: 0.618, \n",
      "Step: 15,  Cost: 0.609, \n",
      "Step: 16,  Cost: 0.602, \n",
      "Step: 17,  Cost: 0.595, \n",
      "Step: 18,  Cost: 0.589, \n",
      "Step: 19,  Cost: 0.584, \n",
      "Step: 20,  Cost: 0.580, \n",
      "Step: 21,  Cost: 0.576, \n",
      "Step: 22,  Cost: 0.573, \n",
      "Step: 23,  Cost: 0.570, \n",
      "Step: 24,  Cost: 0.567, \n",
      "Step: 25,  Cost: 0.565, \n",
      "Step: 26,  Cost: 0.564, \n",
      "Step: 27,  Cost: 0.562, \n",
      "Step: 28,  Cost: 0.561, \n",
      "Step: 29,  Cost: 0.560, \n",
      "Step: 30,  Cost: 0.559, \n",
      "Step: 31,  Cost: 0.558, \n",
      "Step: 32,  Cost: 0.557, \n",
      "Step: 33,  Cost: 0.556, \n",
      "Step: 34,  Cost: 0.556, \n",
      "Step: 35,  Cost: 0.555, \n",
      "Step: 36,  Cost: 0.555, \n",
      "Step: 37,  Cost: 0.554, \n",
      "Step: 38,  Cost: 0.554, \n",
      "Step: 39,  Cost: 0.554, \n",
      "Step: 40,  Cost: 0.553, \n",
      "Step: 41,  Cost: 0.553, \n",
      "Step: 42,  Cost: 0.553, \n",
      "Step: 43,  Cost: 0.553, \n",
      "Step: 44,  Cost: 0.553, \n",
      "Step: 45,  Cost: 0.553, \n",
      "Step: 46,  Cost: 0.552, \n",
      "Step: 47,  Cost: 0.552, \n",
      "Step: 48,  Cost: 0.552, \n",
      "Step: 49,  Cost: 0.552, \n",
      "Step: 50,  Cost: 0.552, \n",
      "Step: 51,  Cost: 0.552, \n",
      "Step: 52,  Cost: 0.552, \n",
      "Step: 53,  Cost: 0.552, \n",
      "Step: 54,  Cost: 0.552, \n",
      "Step: 55,  Cost: 0.551, \n",
      "Step: 56,  Cost: 0.551, \n",
      "Step: 57,  Cost: 0.551, \n",
      "Step: 58,  Cost: 0.551, \n",
      "Step: 59,  Cost: 0.551, \n",
      "Step: 60,  Cost: 0.551, \n",
      "Step: 61,  Cost: 0.551, \n",
      "Step: 62,  Cost: 0.551, \n",
      "Step: 63,  Cost: 0.551, \n",
      "Step: 64,  Cost: 0.551, \n",
      "Step: 65,  Cost: 0.551, \n",
      "Step: 66,  Cost: 0.551, \n",
      "Step: 67,  Cost: 0.551, \n",
      "Step: 68,  Cost: 0.551, \n",
      "Step: 69,  Cost: 0.551, \n",
      "Step: 70,  Cost: 0.551, \n",
      "Step: 71,  Cost: 0.551, \n",
      "Step: 72,  Cost: 0.551, \n",
      "Step: 73,  Cost: 0.551, \n",
      "Step: 74,  Cost: 0.551, \n",
      "Step: 75,  Cost: 0.551, \n",
      "Step: 76,  Cost: 0.551, \n",
      "Step: 77,  Cost: 0.551, \n",
      "Step: 78,  Cost: 0.551, \n",
      "Step: 79,  Cost: 0.551, \n",
      "Step: 80,  Cost: 0.551, \n",
      "Step: 81,  Cost: 0.551, \n",
      "Step: 82,  Cost: 0.551, \n",
      "Step: 83,  Cost: 0.550, \n",
      "Step: 84,  Cost: 0.550, \n",
      "Step: 85,  Cost: 0.550, \n",
      "Step: 86,  Cost: 0.550, \n",
      "Step: 87,  Cost: 0.550, \n",
      "Step: 88,  Cost: 0.550, \n",
      "Step: 89,  Cost: 0.550, \n",
      "Step: 90,  Cost: 0.550, \n",
      "Step: 91,  Cost: 0.550, \n",
      "Step: 92,  Cost: 0.550, \n",
      "Step: 93,  Cost: 0.550, \n",
      "Step: 94,  Cost: 0.550, \n",
      "Step: 95,  Cost: 0.550, \n",
      "Step: 96,  Cost: 0.550, \n",
      "Step: 97,  Cost: 0.550, \n",
      "Step: 98,  Cost: 0.550, \n",
      "Step: 99,  Cost: 0.550, \n",
      "Step: 100,  Cost: 0.550, \n"
     ]
    }
   ],
   "source": [
    "for step in range(100):\n",
    "    sess.run(train_op, feed_dict={X: x_data, Y: y_data})\n",
    "    print('Step: %d, ' % sess.run(global_step),\n",
    "         'Cost: %.3f, ' % sess.run(cost,feed_dict={X: x_data, Y: y_data}))\n",
    "    summary = sess.run(merged, feed_dict={X: x_data, Y: y_data})\n",
    "    writer.add_summary(summary, global_step = sess.run(global_step)) #global_step 변수를 통해 어디서 수집된 것인지를 기록"
   ]
  },
  {
   "cell_type": "code",
   "execution_count": 13,
   "metadata": {},
   "outputs": [
    {
     "data": {
      "text/plain": [
       "'./model/dnn.ckpt-100'"
      ]
     },
     "execution_count": 13,
     "metadata": {},
     "output_type": "execute_result"
    }
   ],
   "source": [
    "# model 저장\n",
    "saver.save(sess, './model/dnn.ckpt', global_step=global_step)"
   ]
  },
  {
   "cell_type": "code",
   "execution_count": 14,
   "metadata": {},
   "outputs": [
    {
     "name": "stdout",
     "output_type": "stream",
     "text": [
      "예측값: [0 1 2 0 0 2]\n",
      "실제값: [0 1 2 0 0 2]\n",
      "정확도: 100.00\n"
     ]
    }
   ],
   "source": [
    "# 예측, 정확도 확인\n",
    "prediction = tf.argmax(model, 1)\n",
    "target = tf.argmax(Y, 1) #one-hot-encoding이므로 가자 큰 값(1)이 label\n",
    "print(\"예측값:\", sess.run(prediction, feed_dict={X: x_data}))\n",
    "print(\"실제값:\", sess.run(target, feed_dict={Y: y_data}))\n",
    "\n",
    "is_correct = tf.equal(prediction, target)\n",
    "accuracy = tf.reduce_mean(tf.cast(is_correct, tf.float32))\n",
    "print(\"정확도: %.2f\" %sess.run(accuracy * 100, feed_dict={X: x_data, Y: y_data}))"
   ]
  },
  {
   "cell_type": "markdown",
   "metadata": {},
   "source": [
    "## 텐서보드 확인하기\n",
    "터미널에 tensorboard --logdir = ./logs 라고 입력"
   ]
  }
 ],
 "metadata": {
  "kernelspec": {
   "display_name": "Python 3",
   "language": "python",
   "name": "python3"
  },
  "language_info": {
   "codemirror_mode": {
    "name": "ipython",
    "version": 3
   },
   "file_extension": ".py",
   "mimetype": "text/x-python",
   "name": "python",
   "nbconvert_exporter": "python",
   "pygments_lexer": "ipython3",
   "version": "3.5.5"
  }
 },
 "nbformat": 4,
 "nbformat_minor": 2
}
